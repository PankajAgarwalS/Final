{
  "cells": [
    {
      "cell_type": "markdown",
      "id": "60128d87",
      "metadata": {
        "id": "60128d87"
      },
      "source": [
        "## Import Libraries"
      ]
    },
    {
      "cell_type": "code",
      "execution_count": 1,
      "id": "273fe26d",
      "metadata": {
        "id": "273fe26d"
      },
      "outputs": [],
      "source": [
        "import tensorflow as tf\n",
        "from keras.models import Sequential\n",
        "from keras.layers import Dense\n",
        "from sklearn.model_selection import train_test_split\n",
        "from sklearn.preprocessing import LabelEncoder\n",
        "import pandas as pd"
      ]
    },
    {
      "cell_type": "markdown",
      "id": "57ea0d89",
      "metadata": {
        "id": "57ea0d89"
      },
      "source": [
        "## Loading Dataset"
      ]
    },
    {
      "cell_type": "code",
      "execution_count": 2,
      "id": "92f4aad8",
      "metadata": {
        "id": "92f4aad8"
      },
      "outputs": [],
      "source": [
        "data_path = 'letter-recognition.data'\n",
        "columns = ['letter'] + [f'feature_{i}' for i in range(16)]\n",
        "df = pd.read_csv(data_path, names=columns)\n",
        "\n",
        "label_encoder = LabelEncoder()\n",
        "df['target'] = label_encoder.fit_transform(df['letter'])\n",
        "X = df.drop(['letter', 'target'], axis=1)\n",
        "y = df['target']\n",
        "\n",
        "# Split the dataset\n",
        "X_train, X_test, y_train, y_test = train_test_split(X, y, test_size=0.2, random_state=42)"
      ]
    },
    {
      "cell_type": "markdown",
      "id": "e928997a",
      "metadata": {
        "id": "e928997a"
      },
      "source": [
        "## Model Fitting"
      ]
    },
    {
      "cell_type": "code",
      "execution_count": 3,
      "id": "32a28247",
      "metadata": {
        "colab": {
          "base_uri": "https://localhost:8080/"
        },
        "id": "32a28247",
        "outputId": "6670e8c9-3588-4002-b2e6-d305c9b2feeb"
      },
      "outputs": [
        {
          "output_type": "stream",
          "name": "stderr",
          "text": [
            "/usr/local/lib/python3.11/dist-packages/keras/src/layers/core/dense.py:87: UserWarning: Do not pass an `input_shape`/`input_dim` argument to a layer. When using Sequential models, prefer using an `Input(shape)` object as the first layer in the model instead.\n",
            "  super().__init__(activity_regularizer=activity_regularizer, **kwargs)\n"
          ]
        },
        {
          "output_type": "stream",
          "name": "stdout",
          "text": [
            "Epoch 1/10\n",
            "\u001b[1m500/500\u001b[0m \u001b[32m━━━━━━━━━━━━━━━━━━━━\u001b[0m\u001b[37m\u001b[0m \u001b[1m4s\u001b[0m 5ms/step - accuracy: 0.3251 - loss: 2.6479 - val_accuracy: 0.7212 - val_loss: 1.0871\n",
            "Epoch 2/10\n",
            "\u001b[1m500/500\u001b[0m \u001b[32m━━━━━━━━━━━━━━━━━━━━\u001b[0m\u001b[37m\u001b[0m \u001b[1m2s\u001b[0m 4ms/step - accuracy: 0.7171 - loss: 1.0155 - val_accuracy: 0.7725 - val_loss: 0.8123\n",
            "Epoch 3/10\n",
            "\u001b[1m500/500\u001b[0m \u001b[32m━━━━━━━━━━━━━━━━━━━━\u001b[0m\u001b[37m\u001b[0m \u001b[1m2s\u001b[0m 4ms/step - accuracy: 0.7757 - loss: 0.7736 - val_accuracy: 0.8055 - val_loss: 0.6707\n",
            "Epoch 4/10\n",
            "\u001b[1m500/500\u001b[0m \u001b[32m━━━━━━━━━━━━━━━━━━━━\u001b[0m\u001b[37m\u001b[0m \u001b[1m2s\u001b[0m 4ms/step - accuracy: 0.8154 - loss: 0.6399 - val_accuracy: 0.8240 - val_loss: 0.6031\n",
            "Epoch 5/10\n",
            "\u001b[1m500/500\u001b[0m \u001b[32m━━━━━━━━━━━━━━━━━━━━\u001b[0m\u001b[37m\u001b[0m \u001b[1m2s\u001b[0m 3ms/step - accuracy: 0.8323 - loss: 0.5627 - val_accuracy: 0.8388 - val_loss: 0.5334\n",
            "Epoch 6/10\n",
            "\u001b[1m500/500\u001b[0m \u001b[32m━━━━━━━━━━━━━━━━━━━━\u001b[0m\u001b[37m\u001b[0m \u001b[1m1s\u001b[0m 3ms/step - accuracy: 0.8516 - loss: 0.4993 - val_accuracy: 0.8510 - val_loss: 0.4810\n",
            "Epoch 7/10\n",
            "\u001b[1m500/500\u001b[0m \u001b[32m━━━━━━━━━━━━━━━━━━━━\u001b[0m\u001b[37m\u001b[0m \u001b[1m3s\u001b[0m 3ms/step - accuracy: 0.8675 - loss: 0.4418 - val_accuracy: 0.8760 - val_loss: 0.4217\n",
            "Epoch 8/10\n",
            "\u001b[1m500/500\u001b[0m \u001b[32m━━━━━━━━━━━━━━━━━━━━\u001b[0m\u001b[37m\u001b[0m \u001b[1m1s\u001b[0m 3ms/step - accuracy: 0.8753 - loss: 0.4100 - val_accuracy: 0.8848 - val_loss: 0.3818\n",
            "Epoch 9/10\n",
            "\u001b[1m500/500\u001b[0m \u001b[32m━━━━━━━━━━━━━━━━━━━━\u001b[0m\u001b[37m\u001b[0m \u001b[1m3s\u001b[0m 3ms/step - accuracy: 0.8829 - loss: 0.3753 - val_accuracy: 0.8825 - val_loss: 0.3768\n",
            "Epoch 10/10\n",
            "\u001b[1m500/500\u001b[0m \u001b[32m━━━━━━━━━━━━━━━━━━━━\u001b[0m\u001b[37m\u001b[0m \u001b[1m2s\u001b[0m 4ms/step - accuracy: 0.8931 - loss: 0.3444 - val_accuracy: 0.8900 - val_loss: 0.3480\n",
            "\u001b[1m125/125\u001b[0m \u001b[32m━━━━━━━━━━━━━━━━━━━━\u001b[0m\u001b[37m\u001b[0m \u001b[1m1s\u001b[0m 4ms/step - accuracy: 0.8876 - loss: 0.3437\n",
            "Test Accuracy: 0.8899999856948853\n"
          ]
        }
      ],
      "source": [
        "# Build the deep neural network model\n",
        "model = Sequential()\n",
        "model.add(Dense(128, activation='relu', input_shape=(16,)))\n",
        "model.add(Dense(64, activation='relu'))\n",
        "model.add(Dense(26, activation='softmax'))  # 26 classes for letters\n",
        "\n",
        "# Compile the model\n",
        "model.compile(optimizer='adam', loss='sparse_categorical_crossentropy', metrics=['accuracy'])\n",
        "\n",
        "# Train the model\n",
        "model.fit(X_train, y_train, epochs=10, batch_size=32, validation_data=(X_test, y_test))\n",
        "\n",
        "# Evaluate the model\n",
        "test_loss, test_accuracy = model.evaluate(X_test, y_test)\n",
        "print(f'Test Accuracy: {test_accuracy}')"
      ]
    },
    {
      "cell_type": "markdown",
      "id": "0606d39a",
      "metadata": {
        "id": "0606d39a"
      },
      "source": [
        "## Predicting"
      ]
    },
    {
      "cell_type": "code",
      "execution_count": 4,
      "id": "3be74606",
      "metadata": {
        "colab": {
          "base_uri": "https://localhost:8080/"
        },
        "id": "3be74606",
        "outputId": "3a0dacb2-3b43-4d02-be3b-d64b7add2ee5"
      },
      "outputs": [
        {
          "output_type": "stream",
          "name": "stdout",
          "text": [
            "\u001b[1m1/1\u001b[0m \u001b[32m━━━━━━━━━━━━━━━━━━━━\u001b[0m\u001b[37m\u001b[0m \u001b[1m0s\u001b[0m 130ms/step\n",
            "[[3.7720316e-08 6.0315226e-05 2.0925787e-05 2.2691020e-05 9.9856877e-01\n",
            "  9.7835982e-06 2.2134003e-04 2.1260360e-04 1.2231283e-05 2.6027280e-06\n",
            "  7.9372745e-05 2.8944612e-05 5.4259135e-09 2.2793538e-09 2.6553886e-08\n",
            "  1.0463836e-07 1.0240170e-08 1.4167356e-06 5.4763089e-04 3.0547442e-05\n",
            "  5.3504273e-06 4.4437320e-09 8.0085092e-13 2.7607610e-05 3.5427860e-08\n",
            "  1.4759070e-04]]\n",
            "The predicted class is: 4\n"
          ]
        }
      ],
      "source": [
        "# Given data\n",
        "import numpy as np\n",
        "new_data = np.array([4, 7, 5, 5, 4, 6, 7, 3, 7, 11, 8, 9, 3, 8, 4, 8]).reshape(1, -1)\n",
        "\n",
        "# Use the model to make predictions\n",
        "predictions = model.predict(new_data)\n",
        "print(predictions)\n",
        "# Display the predictions\n",
        "predicted_class = np.argmax(predictions)\n",
        "print(f'The predicted class is: {predicted_class}')"
      ]
    },
    {
      "cell_type": "code",
      "execution_count": 5,
      "id": "684f3f72",
      "metadata": {
        "colab": {
          "base_uri": "https://localhost:8080/"
        },
        "id": "684f3f72",
        "outputId": "49859d44-9106-4887-da5d-9fd7aed16cea"
      },
      "outputs": [
        {
          "output_type": "stream",
          "name": "stdout",
          "text": [
            "The predicted class is: 4, which corresponds to the letter: E\n"
          ]
        }
      ],
      "source": [
        "class_mapping = {\n",
        "    0: 'A', 1: 'B', 2: 'C', 3: 'D', 4: 'E', 5: 'F', 6: 'G', 7: 'H', 8: 'I', 9: 'J',\n",
        "    10: 'K', 11: 'L', 12: 'M', 13: 'N', 14: 'O', 15: 'P', 16: 'Q', 17: 'R', 18: 'S', 19: 'T',\n",
        "    20: 'U', 21: 'V', 22: 'W', 23: 'X', 24: 'Y', 25: 'Z'\n",
        "}\n",
        "\n",
        "# Display the predicted class using the mapping\n",
        "predicted_letter = class_mapping[predicted_class]\n",
        "print(f'The predicted class is: {predicted_class}, which corresponds to the letter: {predicted_letter}')"
      ]
    },
    {
      "cell_type": "markdown",
      "id": "c44001aa",
      "metadata": {
        "id": "c44001aa"
      },
      "source": [
        "## Dynamic Input"
      ]
    },
    {
      "cell_type": "code",
      "execution_count": 11,
      "id": "8b7c1f59",
      "metadata": {
        "colab": {
          "base_uri": "https://localhost:8080/"
        },
        "id": "8b7c1f59",
        "outputId": "20ad6e51-8750-4633-b1a1-12e99704ca64"
      },
      "outputs": [
        {
          "output_type": "stream",
          "name": "stdout",
          "text": [
            "Enter values for the 17 features separated by commas: 2,8,3,5,1,8,13,0,6,6,10,8,0,8,1,5\n",
            "\u001b[1m1/1\u001b[0m \u001b[32m━━━━━━━━━━━━━━━━━━━━\u001b[0m\u001b[37m\u001b[0m \u001b[1m0s\u001b[0m 37ms/step\n",
            "\n",
            "The predicted class is: 19 i.e. T\n"
          ]
        }
      ],
      "source": [
        "#dummy = 4, 7, 5, 5, 4, 6, 7, 3, 7, 11, 8, 9, 3, 8, 4, 8\n",
        "\n",
        "# Take input from the user\n",
        "user_input = input(\"Enter values for the 16 features separated by commas: \")\n",
        "user_input_list = [int(x) for x in user_input.split(',')]\n",
        "\n",
        "# Convert the user input to a NumPy array\n",
        "new_data = np.array(user_input_list).reshape(1, -1)\n",
        "\n",
        "# Use the model to make predictions\n",
        "predictions = model.predict(new_data)\n",
        "#print(predictions)\n",
        "# Display the predictions\n",
        "predicted_class = np.argmax(predictions)\n",
        "print(f'\\nThe predicted class is: {predicted_class} i.e. {class_mapping[predicted_class]}')"
      ]
    },
    {
      "cell_type": "markdown",
      "source": [
        "Multiclass Classification for OCR Letter Recognition with Deep Neural Networks\n",
        "This code demonstrates how to use a Deep Neural Network (DNN) to perform multiclass classification on the Optical Character Recognition (OCR) Letter Recognition dataset. The goal is to train a model that can accurately identify which letter of the alphabet (A-Z) is represented by a given set of features extracted from a character image.\n",
        "\n",
        "1. The OCR Letter Recognition Dataset\n",
        "\n",
        "The dataset, obtained from the UCI Machine Learning Repository, contains a collection of image features extracted from letter images.\n",
        "\n",
        "Each data point represents a single letter.\n",
        "\n",
        "The features describe various characteristics of the letter image, such as its shape, size, and orientation.\n",
        "\n",
        "The task is a multiclass classification problem because there are 26 possible classes, corresponding to the 26 letters of the English alphabet.\n",
        "\n",
        "2. Deep Neural Networks (DNNs) for Multiclass Classification\n",
        "\n",
        "DNNs are a type of artificial neural network with multiple layers between the input and output layers.\n",
        "\n",
        "Their ability to learn complex, hierarchical representations from data makes them well-suited for tasks like image recognition and classification.\n",
        "\n",
        "For multiclass classification, the DNN is designed to output a probability distribution over all possible classes. The class with the highest probability is then chosen as the predicted class.\n",
        "\n",
        "3. Code Explanation\n",
        "\n",
        "Import Libraries:\n",
        "\n",
        "tensorflow and keras: These are used to build and train the DNN model. Keras provides a high-level API for defining neural network architectures, while TensorFlow is the underlying framework for numerical computation.\n",
        "\n",
        "pandas: This library is used for data manipulation, specifically loading the dataset from a CSV file and organizing it into a DataFrame.\n",
        "\n",
        "sklearn.model_selection.train_test_split: This function is used to split the dataset into training and testing sets.\n",
        "\n",
        "sklearn.preprocessing.LabelEncoder: This class is used to convert the letter labels (A-Z) into numerical values (0-25), which is required for training the neural network.\n",
        "\n",
        "Loading and Preprocessing the Dataset:\n",
        "\n",
        "The code loads the letter recognition dataset from the 'letter-recognition.data' file using pd.read_csv().  It assigns names to the columns.\n",
        "\n",
        "A LabelEncoder is used to transform the categorical letter labels ('A', 'B', 'C', ..., 'Z') into numerical labels (0, 1, 2, ..., 25). This is necessary because neural networks work with numerical data.\n",
        "\n",
        "The dataset is then split into features (X) and target labels (y). The 'letter' and 'target' columns are dropped from X, as they contain the original letter labels and the encoded numerical labels, respectively.\n",
        "\n",
        "The data is further divided into training and testing sets using train_test_split(). This allows the model to be trained on one subset of the data and evaluated on a separate, unseen subset, providing an estimate of its generalization performance.\n",
        "\n",
        "Building the DNN Model:\n",
        "\n",
        "A Sequential model is created using Keras. This allows you to define the layers of the neural network in a linear stack.\n",
        "\n",
        "The model consists of the following layers:\n",
        "\n",
        "Input Layer: A Dense layer with 128 neurons and ReLU (Rectified Linear Unit) activation. The input_shape=(16,) specifies that each data point has 16 features.\n",
        "\n",
        "Hidden Layer: Another Dense layer with 64 neurons and ReLU activation. Hidden layers learn intermediate representations of the input data.\n",
        "\n",
        "Output Layer: A Dense layer with 26 neurons (one for each letter) and softmax activation. The softmax function converts the layer's output into a probability distribution over the 26 classes.\n",
        "\n",
        "Compiling the Model:\n",
        "\n",
        "The model is compiled using the compile() method. This specifies:\n",
        "\n",
        "optimizer='adam': The Adam optimizer is used to update the model's weights during training.\n",
        "\n",
        "loss='sparse_categorical_crossentropy': This loss function is suitable for multiclass classification problems where the labels are integers.\n",
        "\n",
        "metrics=['accuracy']: The model's performance is evaluated using accuracy, which measures the proportion of correctly classified letters.\n",
        "\n",
        "Training the Model:\n",
        "\n",
        "The model is trained using the fit() method.\n",
        "\n",
        "X_train and y_train: The training data and labels are passed to the model.\n",
        "\n",
        "epochs=10: The model iterates through the entire training dataset 10 times.\n",
        "\n",
        "batch_size=32: The training data is processed in batches of 32 samples at a time.\n",
        "\n",
        "validation_data=(X_test, y_test): The model's performance on the test set is evaluated after each epoch, which helps to monitor for overfitting.\n",
        "\n",
        "Evaluating the Model:\n",
        "\n",
        "The trained model is evaluated on the test set using the evaluate() method. This returns the test loss and test accuracy, providing an estimate of how well the model generalizes to unseen data.\n",
        "\n",
        "Making Predictions:\n",
        "\n",
        "The code demonstrates how to use the trained model to predict the letter corresponding to new data.\n",
        "\n",
        "The predict() method is used to generate a probability distribution over the 26 letters for the input data.\n",
        "\n",
        "np.argmax() is used to find the index of the class with the highest probability, which corresponds to the predicted letter.\n",
        "\n",
        "A dictionary class_mapping maps the numerical class labels back to their corresponding letter.\n",
        "\n",
        "Dynamic Input:\n",
        "\n",
        "The code includes a section to take user input for a single data point.\n",
        "\n",
        "The user is prompted to enter 16 comma-separated values representing the features of a letter.\n",
        "\n",
        "This input is converted into a NumPy array and reshaped to match the expected input format of the model.\n",
        "\n",
        "The model then predicts the letter for this user-provided input, and the result is displayed.\n",
        "\n",
        "4. Key Concepts\n",
        "\n",
        "Multiclass Classification: Classifying data points into one of several (more than two) classes.\n",
        "\n",
        "Optical Character Recognition (OCR): The task of automatically recognizing characters from images.\n",
        "\n",
        "Deep Neural Networks (DNNs): Neural networks with multiple hidden layers, capable of learning complex patterns.\n",
        "\n",
        "Feature Extraction: The process of extracting relevant features from raw data (in this case, letter images) that are useful for classification.\n",
        "\n",
        "Label Encoding: Converting categorical labels (letters) into numerical values.\n",
        "\n",
        "Softmax Activation: A function used in the output layer of a DNN for multiclass classification, which converts the raw output into a probability distribution over the classes.\n",
        "\n",
        "Sparse Categorical Crossentropy: A loss function used for multiclass classification with integer labels.\n",
        "\n",
        "Optimizer: An algorithm (like Adam) used to update the model's weights during training to minimize the loss function.\n",
        "\n",
        "Epoch: One complete pass through the entire training dataset during training.\n",
        "\n",
        "Batch Size: The number of samples processed before the model's weights are updated.\n",
        "\n",
        "Training and Testing Sets: Splitting the data into training and testing sets to evaluate the model's generalization performance.\n",
        "\n",
        "Accuracy: A metric used to evaluate the model's performance, measuring the proportion of correctly classified samples.\n",
        "\n",
        "This code provides a basic example of how to use a DNN for OCR letter recognition. With further experimentation, such as adding more layers, tuning hyperparameters, and using more advanced techniques, the accuracy of the model can be improved."
      ],
      "metadata": {
        "id": "7D_28iPuhrf2"
      },
      "id": "7D_28iPuhrf2"
    }
  ],
  "metadata": {
    "kernelspec": {
      "display_name": "Python 3 (ipykernel)",
      "language": "python",
      "name": "python3"
    },
    "language_info": {
      "codemirror_mode": {
        "name": "ipython",
        "version": 3
      },
      "file_extension": ".py",
      "mimetype": "text/x-python",
      "name": "python",
      "nbconvert_exporter": "python",
      "pygments_lexer": "ipython3",
      "version": "3.11.5"
    },
    "colab": {
      "provenance": []
    }
  },
  "nbformat": 4,
  "nbformat_minor": 5
}