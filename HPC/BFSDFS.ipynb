{
  "nbformat": 4,
  "nbformat_minor": 0,
  "metadata": {
    "colab": {
      "provenance": []
    },
    "kernelspec": {
      "name": "python3",
      "display_name": "Python 3"
    },
    "language_info": {
      "name": "python"
    }
  },
  "cells": [
    {
      "cell_type": "code",
      "source": [
        "!apt update -y\n",
        "!apt install gcc -y\n"
      ],
      "metadata": {
        "colab": {
          "base_uri": "https://localhost:8080/"
        },
        "id": "Pu4-S44j6r4e",
        "outputId": "02277967-cf4b-4086-d9c6-a9659f4d578e"
      },
      "execution_count": 19,
      "outputs": [
        {
          "output_type": "stream",
          "name": "stdout",
          "text": [
            "\u001b[33m\r0% [Working]\u001b[0m\r            \rHit:1 https://developer.download.nvidia.com/compute/cuda/repos/ubuntu2204/x86_64  InRelease\n",
            "Hit:2 https://cloud.r-project.org/bin/linux/ubuntu jammy-cran40/ InRelease\n",
            "Hit:3 http://archive.ubuntu.com/ubuntu jammy InRelease\n",
            "Hit:4 http://security.ubuntu.com/ubuntu jammy-security InRelease\n",
            "Hit:5 https://r2u.stat.illinois.edu/ubuntu jammy InRelease\n",
            "Hit:6 http://archive.ubuntu.com/ubuntu jammy-updates InRelease\n",
            "Hit:7 https://ppa.launchpadcontent.net/deadsnakes/ppa/ubuntu jammy InRelease\n",
            "Hit:8 http://archive.ubuntu.com/ubuntu jammy-backports InRelease\n",
            "Hit:9 https://ppa.launchpadcontent.net/graphics-drivers/ppa/ubuntu jammy InRelease\n",
            "Hit:10 https://ppa.launchpadcontent.net/ubuntugis/ppa/ubuntu jammy InRelease\n",
            "Reading package lists... Done\n",
            "Building dependency tree... Done\n",
            "Reading state information... Done\n",
            "43 packages can be upgraded. Run 'apt list --upgradable' to see them.\n",
            "\u001b[1;33mW: \u001b[0mSkipping acquire of configured file 'main/source/Sources' as repository 'https://r2u.stat.illinois.edu/ubuntu jammy InRelease' does not seem to provide it (sources.list entry misspelt?)\u001b[0m\n",
            "Reading package lists... Done\n",
            "Building dependency tree... Done\n",
            "Reading state information... Done\n",
            "gcc is already the newest version (4:11.2.0-1ubuntu1).\n",
            "0 upgraded, 0 newly installed, 0 to remove and 43 not upgraded.\n"
          ]
        }
      ]
    },
    {
      "cell_type": "code",
      "execution_count": 18,
      "metadata": {
        "colab": {
          "base_uri": "https://localhost:8080/"
        },
        "id": "-CZ7Q6ns5LFF",
        "outputId": "9c09a280-1836-450a-d3a4-c711efc72ee4"
      },
      "outputs": [
        {
          "output_type": "stream",
          "name": "stdout",
          "text": [
            "Overwriting parallel_bfs_dfs.c\n"
          ]
        }
      ],
      "source": [
        "# Step 1: Write the code to a .c file\n",
        "%%writefile parallel_bfs_dfs.c\n",
        "#include <stdio.h>\n",
        "#include <stdlib.h>\n",
        "#include <omp.h>\n",
        "\n",
        "#define MAX_NODES 100\n",
        "\n",
        "int graph[MAX_NODES][MAX_NODES];\n",
        "int visited[MAX_NODES];\n",
        "int queue[MAX_NODES];\n",
        "int front = 0, rear = -1;\n",
        "\n",
        "void enqueue(int node) {\n",
        "    queue[++rear] = node;\n",
        "}\n",
        "\n",
        "int dequeue() {\n",
        "    return queue[front++];\n",
        "}\n",
        "\n",
        "int isQueueEmpty() {\n",
        "    return front > rear;\n",
        "}\n",
        "\n",
        "void parallelBFS(int start, int n) {\n",
        "    enqueue(start);\n",
        "    visited[start] = 1;\n",
        "\n",
        "    while (!isQueueEmpty()) {\n",
        "        int currentSize = rear - front + 1;\n",
        "\n",
        "        #pragma omp parallel for shared(queue, graph, visited, currentSize)\n",
        "        for (int i = 0; i < currentSize; i++) {\n",
        "            int node;\n",
        "\n",
        "            #pragma omp critical\n",
        "            {\n",
        "                node = dequeue();\n",
        "                printf(\"Visited %d by thread %d\\n\", node, omp_get_thread_num());\n",
        "            }\n",
        "\n",
        "            for (int j = 0; j < n; j++) {\n",
        "                if (graph[node][j] && !visited[j]) {\n",
        "                    #pragma omp critical\n",
        "                    {\n",
        "                        if (!visited[j]) {\n",
        "                            visited[j] = 1;\n",
        "                            enqueue(j);\n",
        "                        }\n",
        "                    }\n",
        "                }\n",
        "            }\n",
        "        }\n",
        "    }\n",
        "}\n",
        "\n",
        "void dfsTask(int node, int n) {\n",
        "    int shouldProceed = 0;\n",
        "\n",
        "    #pragma omp critical\n",
        "    {\n",
        "        if (!visited[node]) {\n",
        "            visited[node] = 1;\n",
        "            printf(\"Visited %d by thread %d\\n\", node, omp_get_thread_num());\n",
        "            shouldProceed = 1;\n",
        "        }\n",
        "    }\n",
        "\n",
        "    if (!shouldProceed) return;\n",
        "\n",
        "    for (int i = 0; i < n; i++) {\n",
        "        if (graph[node][i]) {\n",
        "            #pragma omp task\n",
        "            dfsTask(i, n);\n",
        "        }\n",
        "    }\n",
        "\n",
        "    #pragma omp taskwait\n",
        "}\n",
        "\n",
        "void parallelDFS(int start, int n) {\n",
        "    #pragma omp parallel\n",
        "    {\n",
        "        #pragma omp single\n",
        "        {\n",
        "            dfsTask(start, n);\n",
        "        }\n",
        "    }\n",
        "}\n",
        "\n",
        "int main() {\n",
        "    int n = 6;\n",
        "\n",
        "    int adjacencyMatrix[6][6] = {\n",
        "        {0, 1, 1, 0, 0, 0},\n",
        "        {1, 0, 0, 1, 1, 0},\n",
        "        {1, 0, 0, 0, 1, 0},\n",
        "        {0, 1, 0, 0, 0, 1},\n",
        "        {0, 1, 1, 0, 0, 1},\n",
        "        {0, 0, 0, 1, 1, 0}\n",
        "    };\n",
        "\n",
        "    for (int i = 0; i < n; i++)\n",
        "        for (int j = 0; j < n; j++)\n",
        "            graph[i][j] = adjacencyMatrix[i][j];\n",
        "\n",
        "    printf(\"Parallel BFS:\\n\");\n",
        "    for (int i = 0; i < n; i++) visited[i] = 0;\n",
        "    front = 0, rear = -1;\n",
        "    parallelBFS(0, n);\n",
        "\n",
        "    printf(\"\\nParallel DFS:\\n\");\n",
        "    for (int i = 0; i < n; i++) visited[i] = 0;\n",
        "    parallelDFS(0, n);\n",
        "\n",
        "    return 0;\n",
        "}\n"
      ]
    },
    {
      "cell_type": "code",
      "source": [
        "!gcc -fopenmp parallel_bfs_dfs.c -o parallel_bfs_dfs\n"
      ],
      "metadata": {
        "id": "3568Ac1r6x_V"
      },
      "execution_count": 20,
      "outputs": []
    },
    {
      "cell_type": "code",
      "source": [
        "!./parallel_bfs_dfs\n"
      ],
      "metadata": {
        "colab": {
          "base_uri": "https://localhost:8080/"
        },
        "id": "T_zNUdHC6zQW",
        "outputId": "4da1bd98-05fe-44f9-f3f0-e4e49dd45867"
      },
      "execution_count": 21,
      "outputs": [
        {
          "output_type": "stream",
          "name": "stdout",
          "text": [
            "Parallel BFS:\n",
            "Visited 0 by thread 0\n",
            "Visited 1 by thread 1\n",
            "Visited 2 by thread 0\n",
            "Visited 3 by thread 0\n",
            "Visited 4 by thread 1\n",
            "Visited 5 by thread 0\n",
            "\n",
            "Parallel DFS:\n",
            "Visited 0 by thread 0\n",
            "Visited 1 by thread 1\n",
            "Visited 2 by thread 0\n",
            "Visited 4 by thread 0\n",
            "Visited 5 by thread 0\n",
            "Visited 3 by thread 0\n"
          ]
        }
      ]
    },
    {
      "cell_type": "code",
      "source": [],
      "metadata": {
        "id": "7YnDFIb88YYb"
      },
      "execution_count": null,
      "outputs": []
    }
  ]
}