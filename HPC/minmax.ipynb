{
  "nbformat": 4,
  "nbformat_minor": 0,
  "metadata": {
    "colab": {
      "provenance": []
    },
    "kernelspec": {
      "name": "python3",
      "display_name": "Python 3"
    },
    "language_info": {
      "name": "python"
    }
  },
  "cells": [
    {
      "cell_type": "code",
      "source": [
        "!apt update -y\n",
        "!apt install gcc -y\n"
      ],
      "metadata": {
        "colab": {
          "base_uri": "https://localhost:8080/"
        },
        "id": "Pu4-S44j6r4e",
        "outputId": "02277967-cf4b-4086-d9c6-a9659f4d578e"
      },
      "execution_count": 19,
      "outputs": [
        {
          "output_type": "stream",
          "name": "stdout",
          "text": [
            "\u001b[33m\r0% [Working]\u001b[0m\r            \rHit:1 https://developer.download.nvidia.com/compute/cuda/repos/ubuntu2204/x86_64  InRelease\n",
            "Hit:2 https://cloud.r-project.org/bin/linux/ubuntu jammy-cran40/ InRelease\n",
            "Hit:3 http://archive.ubuntu.com/ubuntu jammy InRelease\n",
            "Hit:4 http://security.ubuntu.com/ubuntu jammy-security InRelease\n",
            "Hit:5 https://r2u.stat.illinois.edu/ubuntu jammy InRelease\n",
            "Hit:6 http://archive.ubuntu.com/ubuntu jammy-updates InRelease\n",
            "Hit:7 https://ppa.launchpadcontent.net/deadsnakes/ppa/ubuntu jammy InRelease\n",
            "Hit:8 http://archive.ubuntu.com/ubuntu jammy-backports InRelease\n",
            "Hit:9 https://ppa.launchpadcontent.net/graphics-drivers/ppa/ubuntu jammy InRelease\n",
            "Hit:10 https://ppa.launchpadcontent.net/ubuntugis/ppa/ubuntu jammy InRelease\n",
            "Reading package lists... Done\n",
            "Building dependency tree... Done\n",
            "Reading state information... Done\n",
            "43 packages can be upgraded. Run 'apt list --upgradable' to see them.\n",
            "\u001b[1;33mW: \u001b[0mSkipping acquire of configured file 'main/source/Sources' as repository 'https://r2u.stat.illinois.edu/ubuntu jammy InRelease' does not seem to provide it (sources.list entry misspelt?)\u001b[0m\n",
            "Reading package lists... Done\n",
            "Building dependency tree... Done\n",
            "Reading state information... Done\n",
            "gcc is already the newest version (4:11.2.0-1ubuntu1).\n",
            "0 upgraded, 0 newly installed, 0 to remove and 43 not upgraded.\n"
          ]
        }
      ]
    },
    {
      "cell_type": "code",
      "execution_count": 26,
      "metadata": {
        "colab": {
          "base_uri": "https://localhost:8080/"
        },
        "id": "-CZ7Q6ns5LFF",
        "outputId": "efa9026a-e69e-4171-80b4-c02dcdcc5cfc"
      },
      "outputs": [
        {
          "output_type": "stream",
          "name": "stdout",
          "text": [
            "Writing reduction_operations.c\n"
          ]
        }
      ],
      "source": [
        "%%writefile reduction_operations.c\n",
        "#include <stdio.h>\n",
        "#include <stdlib.h>\n",
        "#include <omp.h>\n",
        "\n",
        "#define SIZE 100000\n",
        "\n",
        "int main() {\n",
        "    int arr[SIZE];\n",
        "    for (int i = 0; i < SIZE; i++) {\n",
        "        arr[i] = rand() % 100000;\n",
        "    }\n",
        "\n",
        "    int minVal = arr[0];\n",
        "    int maxVal = arr[0];\n",
        "    long long sum = 0;\n",
        "    double average = 0.0;\n",
        "\n",
        "    double start = omp_get_wtime();\n",
        "\n",
        "    // Parallel Reduction\n",
        "    #pragma omp parallel for reduction(min:minVal) reduction(max:maxVal) reduction(+:sum)\n",
        "    for (int i = 0; i < SIZE; i++) {\n",
        "        if (arr[i] < minVal) minVal = arr[i];\n",
        "        if (arr[i] > maxVal) maxVal = arr[i];\n",
        "        sum += arr[i];\n",
        "    }\n",
        "\n",
        "    average = (double)sum / SIZE;\n",
        "\n",
        "    double end = omp_get_wtime();\n",
        "\n",
        "    // Output results\n",
        "    printf(\"Minimum: %d\\n\", minVal);\n",
        "    printf(\"Maximum: %d\\n\", maxVal);\n",
        "    printf(\"Sum: %lld\\n\", sum);\n",
        "    printf(\"Average: %.2f\\n\", average);\n",
        "    printf(\"Time Taken: %f seconds\\n\", end - start);\n",
        "\n",
        "    return 0;\n",
        "}\n"
      ]
    },
    {
      "cell_type": "code",
      "source": [
        "!gcc -fopenmp reduction_operations.c -o reduction_ops\n"
      ],
      "metadata": {
        "id": "3568Ac1r6x_V"
      },
      "execution_count": 27,
      "outputs": []
    },
    {
      "cell_type": "code",
      "source": [
        "!./reduction_ops\n"
      ],
      "metadata": {
        "colab": {
          "base_uri": "https://localhost:8080/"
        },
        "id": "T_zNUdHC6zQW",
        "outputId": "db00900c-6a50-4ad8-e4e3-df91de93ff58"
      },
      "execution_count": 28,
      "outputs": [
        {
          "output_type": "stream",
          "name": "stdout",
          "text": [
            "Minimum: 0\n",
            "Maximum: 99999\n",
            "Sum: 4993261546\n",
            "Average: 49932.62\n",
            "Time Taken: 0.001204 seconds\n"
          ]
        }
      ]
    },
    {
      "cell_type": "code",
      "source": [],
      "metadata": {
        "id": "7YnDFIb88YYb"
      },
      "execution_count": null,
      "outputs": []
    }
  ]
}