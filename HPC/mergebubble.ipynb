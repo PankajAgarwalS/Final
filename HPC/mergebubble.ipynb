{
  "nbformat": 4,
  "nbformat_minor": 0,
  "metadata": {
    "colab": {
      "provenance": []
    },
    "kernelspec": {
      "name": "python3",
      "display_name": "Python 3"
    },
    "language_info": {
      "name": "python"
    }
  },
  "cells": [
    {
      "cell_type": "code",
      "source": [
        "!apt update -y\n",
        "!apt install gcc -y\n"
      ],
      "metadata": {
        "colab": {
          "base_uri": "https://localhost:8080/"
        },
        "id": "Pu4-S44j6r4e",
        "outputId": "02277967-cf4b-4086-d9c6-a9659f4d578e"
      },
      "execution_count": 19,
      "outputs": [
        {
          "output_type": "stream",
          "name": "stdout",
          "text": [
            "\u001b[33m\r0% [Working]\u001b[0m\r            \rHit:1 https://developer.download.nvidia.com/compute/cuda/repos/ubuntu2204/x86_64  InRelease\n",
            "Hit:2 https://cloud.r-project.org/bin/linux/ubuntu jammy-cran40/ InRelease\n",
            "Hit:3 http://archive.ubuntu.com/ubuntu jammy InRelease\n",
            "Hit:4 http://security.ubuntu.com/ubuntu jammy-security InRelease\n",
            "Hit:5 https://r2u.stat.illinois.edu/ubuntu jammy InRelease\n",
            "Hit:6 http://archive.ubuntu.com/ubuntu jammy-updates InRelease\n",
            "Hit:7 https://ppa.launchpadcontent.net/deadsnakes/ppa/ubuntu jammy InRelease\n",
            "Hit:8 http://archive.ubuntu.com/ubuntu jammy-backports InRelease\n",
            "Hit:9 https://ppa.launchpadcontent.net/graphics-drivers/ppa/ubuntu jammy InRelease\n",
            "Hit:10 https://ppa.launchpadcontent.net/ubuntugis/ppa/ubuntu jammy InRelease\n",
            "Reading package lists... Done\n",
            "Building dependency tree... Done\n",
            "Reading state information... Done\n",
            "43 packages can be upgraded. Run 'apt list --upgradable' to see them.\n",
            "\u001b[1;33mW: \u001b[0mSkipping acquire of configured file 'main/source/Sources' as repository 'https://r2u.stat.illinois.edu/ubuntu jammy InRelease' does not seem to provide it (sources.list entry misspelt?)\u001b[0m\n",
            "Reading package lists... Done\n",
            "Building dependency tree... Done\n",
            "Reading state information... Done\n",
            "gcc is already the newest version (4:11.2.0-1ubuntu1).\n",
            "0 upgraded, 0 newly installed, 0 to remove and 43 not upgraded.\n"
          ]
        }
      ]
    },
    {
      "cell_type": "code",
      "execution_count": 22,
      "metadata": {
        "colab": {
          "base_uri": "https://localhost:8080/"
        },
        "id": "-CZ7Q6ns5LFF",
        "outputId": "19c94f6a-9070-4fce-8d88-37c71ce3436d"
      },
      "outputs": [
        {
          "output_type": "stream",
          "name": "stdout",
          "text": [
            "Writing parallel_sort.c\n"
          ]
        }
      ],
      "source": [
        "%%writefile parallel_sort.c\n",
        "#include <stdio.h>\n",
        "#include <stdlib.h>\n",
        "#include <omp.h>\n",
        "\n",
        "#define SIZE 10000\n",
        "\n",
        "void swap(int* a, int* b) {\n",
        "    int t = *a;\n",
        "    *a = *b;\n",
        "    *b = t;\n",
        "}\n",
        "\n",
        "// ---------------- SEQUENTIAL BUBBLE SORT ----------------\n",
        "void sequentialBubbleSort(int arr[], int n) {\n",
        "    for (int i = 0; i < n-1; i++) {\n",
        "        for (int j = 0; j < n-i-1; j++) {\n",
        "            if (arr[j] > arr[j+1])\n",
        "                swap(&arr[j], &arr[j+1]);\n",
        "        }\n",
        "    }\n",
        "}\n",
        "\n",
        "// ---------------- PARALLEL BUBBLE SORT ----------------\n",
        "void parallelBubbleSort(int arr[], int n) {\n",
        "    for (int i = 0; i < n-1; i++) {\n",
        "        int start = i % 2;\n",
        "        #pragma omp parallel for\n",
        "        for (int j = start; j < n-1; j += 2) {\n",
        "            if (arr[j] > arr[j+1]) {\n",
        "                swap(&arr[j], &arr[j+1]);\n",
        "            }\n",
        "        }\n",
        "    }\n",
        "}\n",
        "\n",
        "// ---------------- SEQUENTIAL MERGE SORT ----------------\n",
        "void merge(int arr[], int l, int m, int r) {\n",
        "    int i, j, k;\n",
        "    int n1 = m - l + 1;\n",
        "    int n2 = r - m;\n",
        "\n",
        "    int* L = (int*) malloc(n1 * sizeof(int));\n",
        "    int* R = (int*) malloc(n2 * sizeof(int));\n",
        "\n",
        "    for (i = 0; i < n1; i++) L[i] = arr[l + i];\n",
        "    for (j = 0; j < n2; j++) R[j] = arr[m + 1+ j];\n",
        "\n",
        "    i = 0; j = 0; k = l;\n",
        "    while (i < n1 && j < n2)\n",
        "        arr[k++] = (L[i] <= R[j]) ? L[i++] : R[j++];\n",
        "    while (i < n1) arr[k++] = L[i++];\n",
        "    while (j < n2) arr[k++] = R[j++];\n",
        "\n",
        "    free(L); free(R);\n",
        "}\n",
        "\n",
        "void sequentialMergeSort(int arr[], int l, int r) {\n",
        "    if (l < r) {\n",
        "        int m = (l + r)/2;\n",
        "        sequentialMergeSort(arr, l, m);\n",
        "        sequentialMergeSort(arr, m+1, r);\n",
        "        merge(arr, l, m, r);\n",
        "    }\n",
        "}\n",
        "\n",
        "// ---------------- PARALLEL MERGE SORT ----------------\n",
        "void parallelMergeSort(int arr[], int l, int r) {\n",
        "    if (l < r) {\n",
        "        int m = (l + r)/2;\n",
        "        #pragma omp parallel sections\n",
        "        {\n",
        "            #pragma omp section\n",
        "            parallelMergeSort(arr, l, m);\n",
        "            #pragma omp section\n",
        "            parallelMergeSort(arr, m+1, r);\n",
        "        }\n",
        "        merge(arr, l, m, r);\n",
        "    }\n",
        "}\n",
        "\n",
        "void copyArray(int src[], int dest[], int n) {\n",
        "    for (int i = 0; i < n; i++) dest[i] = src[i];\n",
        "}\n",
        "\n",
        "void fillArray(int arr[], int n) {\n",
        "    for (int i = 0; i < n; i++)\n",
        "        arr[i] = rand() % 100000;\n",
        "}\n",
        "\n",
        "int main() {\n",
        "    int n = SIZE;\n",
        "    int original[SIZE], arr1[SIZE], arr2[SIZE], arr3[SIZE], arr4[SIZE];\n",
        "    fillArray(original, n);\n",
        "\n",
        "    copyArray(original, arr1, n);\n",
        "    copyArray(original, arr2, n);\n",
        "    copyArray(original, arr3, n);\n",
        "    copyArray(original, arr4, n);\n",
        "\n",
        "    double start, end;\n",
        "\n",
        "    // Sequential Bubble Sort\n",
        "    start = omp_get_wtime();\n",
        "    sequentialBubbleSort(arr1, n);\n",
        "    end = omp_get_wtime();\n",
        "    printf(\"Sequential Bubble Sort Time: %f seconds\\n\", end - start);\n",
        "\n",
        "    // Parallel Bubble Sort\n",
        "    start = omp_get_wtime();\n",
        "    parallelBubbleSort(arr2, n);\n",
        "    end = omp_get_wtime();\n",
        "    printf(\"Parallel Bubble Sort Time:   %f seconds\\n\", end - start);\n",
        "\n",
        "    // Sequential Merge Sort\n",
        "    start = omp_get_wtime();\n",
        "    sequentialMergeSort(arr3, 0, n-1);\n",
        "    end = omp_get_wtime();\n",
        "    printf(\"Sequential Merge Sort Time:  %f seconds\\n\", end - start);\n",
        "\n",
        "    // Parallel Merge Sort\n",
        "    start = omp_get_wtime();\n",
        "    parallelMergeSort(arr4, 0, n-1);\n",
        "    end = omp_get_wtime();\n",
        "    printf(\"Parallel Merge Sort Time:    %f seconds\\n\", end - start);\n",
        "\n",
        "    return 0;\n",
        "}\n"
      ]
    },
    {
      "cell_type": "code",
      "source": [
        "!gcc -fopenmp parallel_sort.c -o parallel_sort\n"
      ],
      "metadata": {
        "id": "3568Ac1r6x_V"
      },
      "execution_count": 23,
      "outputs": []
    },
    {
      "cell_type": "code",
      "source": [
        "!./parallel_sort\n"
      ],
      "metadata": {
        "colab": {
          "base_uri": "https://localhost:8080/"
        },
        "id": "T_zNUdHC6zQW",
        "outputId": "5654f964-e181-4c85-b57c-b39f58dc1585"
      },
      "execution_count": 24,
      "outputs": [
        {
          "output_type": "stream",
          "name": "stdout",
          "text": [
            "Sequential Bubble Sort Time: 0.363628 seconds\n",
            "Parallel Bubble Sort Time:   0.232604 seconds\n",
            "Sequential Merge Sort Time:  0.002437 seconds\n",
            "Parallel Merge Sort Time:    0.009776 seconds\n"
          ]
        }
      ]
    },
    {
      "cell_type": "code",
      "source": [],
      "metadata": {
        "id": "7YnDFIb88YYb"
      },
      "execution_count": null,
      "outputs": []
    }
  ]
}